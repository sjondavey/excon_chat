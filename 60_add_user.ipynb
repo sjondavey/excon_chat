{
 "cells": [
  {
   "cell_type": "code",
   "execution_count": 1,
   "metadata": {},
   "outputs": [],
   "source": [
    "import bcrypt"
   ]
  },
  {
   "cell_type": "code",
   "execution_count": 6,
   "metadata": {},
   "outputs": [
    {
     "name": "stdout",
     "output_type": "stream",
     "text": [
      "raw version is naraidoo, hashed version is $2b$12$zEiPIuOTDTAQJD5/jugLNO/9N/6iOZZ8.iwXCUJFoUN3O8VlqsD6a\n",
      "Checking that the password verifies: True\n"
     ]
    }
   ],
   "source": [
    "password = \"naraidoo\"\n",
    "\n",
    "#youmalan \n",
    "\n",
    "\n",
    "\n",
    "hashed_password = bcrypt.hashpw(password.encode(), bcrypt.gensalt()).decode()\n",
    "\n",
    "print(f'raw version is {password}, hashed version is {hashed_password}')\n",
    "\n",
    "check_password = bcrypt.checkpw(password.encode(), hashed_password.encode())\n",
    "print(f'Checking that the password verifies: {check_password}')"
   ]
  },
  {
   "cell_type": "code",
   "execution_count": null,
   "metadata": {},
   "outputs": [],
   "source": []
  }
 ],
 "metadata": {
  "kernelspec": {
   "display_name": "Python 3.10.4 ('env': venv)",
   "language": "python",
   "name": "python3"
  },
  "language_info": {
   "codemirror_mode": {
    "name": "ipython",
    "version": 3
   },
   "file_extension": ".py",
   "mimetype": "text/x-python",
   "name": "python",
   "nbconvert_exporter": "python",
   "pygments_lexer": "ipython3",
   "version": "3.10.4"
  },
  "orig_nbformat": 4,
  "vscode": {
   "interpreter": {
    "hash": "c548d70a0ee3a43b13cd9e58f531623ad7c83e304ddc5d83c0f1eb37efc9120d"
   }
  }
 },
 "nbformat": 4,
 "nbformat_minor": 2
}
