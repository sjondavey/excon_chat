{
 "cells": [
  {
   "cell_type": "code",
   "execution_count": 1,
   "metadata": {},
   "outputs": [],
   "source": [
    "import bcrypt"
   ]
  },
  {
   "cell_type": "code",
   "execution_count": 10,
   "metadata": {},
   "outputs": [
    {
     "name": "stdout",
     "output_type": "stream",
     "text": [
      "User: phuti\n",
      "pwd: sebidi\n",
      "raw version is sebidi, hashed version is $2b$12$.8ecUfW9i0SyL5C8x57R3OgHhYlL3TqaR3PPOElAS8nStVM8WaYMi\n",
      "Checking that the password verifies: True\n",
      "-----------------\n",
      "phuti = \"$2b$12$.8ecUfW9i0SyL5C8x57R3OgHhYlL3TqaR3PPOElAS8nStVM8WaYMi\"\n"
     ]
    }
   ],
   "source": [
    "name = \"John Chemaly\"\n",
    "name = \"Phuti Sebidi\"\n",
    "\n",
    "split = name.lower().split()\n",
    "\n",
    "user = split[0]\n",
    "pwd = split[1]\n",
    "\n",
    "print(f\"User: {user}\")\n",
    "print(f\"pwd: {pwd}\")\n",
    "\n",
    "hashed_password = bcrypt.hashpw(pwd.encode(), bcrypt.gensalt()).decode()\n",
    "\n",
    "print(f'raw version is {pwd}, hashed version is {hashed_password}')\n",
    "\n",
    "check_password = bcrypt.checkpw(pwd.encode(), hashed_password.encode())\n",
    "print(f'Checking that the password verifies: {check_password}')\n",
    "\n",
    "print('-----------------')\n",
    "print(f'{user} = \\\"{hashed_password}\\\"')"
   ]
  },
  {
   "cell_type": "code",
   "execution_count": null,
   "metadata": {},
   "outputs": [],
   "source": []
  }
 ],
 "metadata": {
  "kernelspec": {
   "display_name": "Python 3.10.4 ('env': venv)",
   "language": "python",
   "name": "python3"
  },
  "language_info": {
   "codemirror_mode": {
    "name": "ipython",
    "version": 3
   },
   "file_extension": ".py",
   "mimetype": "text/x-python",
   "name": "python",
   "nbconvert_exporter": "python",
   "pygments_lexer": "ipython3",
   "version": "3.10.4"
  },
  "orig_nbformat": 4,
  "vscode": {
   "interpreter": {
    "hash": "c548d70a0ee3a43b13cd9e58f531623ad7c83e304ddc5d83c0f1eb37efc9120d"
   }
  }
 },
 "nbformat": 4,
 "nbformat_minor": 2
}
