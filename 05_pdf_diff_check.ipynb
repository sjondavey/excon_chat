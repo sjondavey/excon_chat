{
 "cells": [
  {
   "cell_type": "markdown",
   "metadata": {},
   "source": [
    "Simple notebook to compare versions of the exchange control manual. Most updates are to the tables that contain lists of ADs and ALDAs and not to the text itself. The test here is to compare the text in the document (excluding the ToC because page numbers change). This is done by selecting page ranges in the base and new document and comparing those. Where there are mismatches, these still need to be investigated manually"
   ]
  },
  {
   "cell_type": "code",
   "execution_count": 1,
   "metadata": {},
   "outputs": [],
   "source": [
    "import fitz # pymupdf\n",
    "import re\n",
    "\n",
    "pdf_file = \"./pdf/Currency and Exchanges Manual for Authorised Dealers_20230523.pdf\"\n",
    "base_doc = fitz.open(pdf_file)\n",
    "\n",
    "pdf_file = \"./pdf/Currency and Exchanges Manual for Authorised Dealers_20231013.pdf\"\n",
    "new_doc = fitz.open(pdf_file)"
   ]
  },
  {
   "cell_type": "code",
   "execution_count": 5,
   "metadata": {},
   "outputs": [],
   "source": [
    "header_size=70\n",
    "footer_size=80\n",
    "\n",
    "def get_page_text_as_list(pymupdf_doc, page_number):\n",
    "    page = pymupdf_doc[page_number]\n",
    "    tl = page.rect[0], page.rect[1]  # lower-left coordinates\n",
    "    br = page.rect[2], page.rect[3]  # upper-right\n",
    "    rect = fitz.Rect(tl[0], tl[1]+header_size, br[0], br[1]-footer_size)\n",
    "    lines = page.get_text('text', clip=rect).split('\\n')\n",
    "    lines = [s.strip() for s in lines]\n",
    "\n",
    "    # Remove empty strings from the start\n",
    "    while lines and not lines[0]:\n",
    "        lines.pop(0)\n",
    "\n",
    "    # Remove empty strings from the end\n",
    "    while lines and not lines[-1]:\n",
    "        lines.pop()\n",
    "\n",
    "    return lines"
   ]
  },
  {
   "cell_type": "markdown",
   "metadata": {},
   "source": [
    "I need some objects to define page ranges in the source and new documents along with a page offset"
   ]
  },
  {
   "cell_type": "code",
   "execution_count": 21,
   "metadata": {},
   "outputs": [],
   "source": [
    "class PageInfo:\n",
    "    def __init__(self, start, end, offset):\n",
    "        if end <= start:\n",
    "            raise ValueError(\"End must be greater than Start.\")\n",
    "        self.start = start\n",
    "        self.end = end\n",
    "        self.offset = offset\n",
    "\n",
    "class PageList:\n",
    "    def __init__(self, raw_list):\n",
    "        sorted_list = sorted(raw_list, key=lambda x: x['start'])\n",
    "        self.page_list = []\n",
    "        self.missing_pages = []\n",
    "    \n",
    "        for i, item in enumerate(sorted_list):\n",
    "            start = item['start']\n",
    "            end = item['end']\n",
    "            offset = item['offset']\n",
    "                \n",
    "            if i > 0 and start != self.page_list[-1].end:\n",
    "                print(f\"There are some pages that are not being compared. They include the range [{self.page_list[-1].end}, {start})\")\n",
    "                for j in range(self.page_list[-1].end, start):\n",
    "                    self.missing_pages.append(j)\n",
    "\n",
    "            self.page_list.append(PageInfo(start, end, offset))    \n",
    "\n",
    "    def find_offset(self, i):\n",
    "        if i in self.missing_pages:\n",
    "            return None\n",
    "        for item in self.page_list:\n",
    "            if item.start <= i < item.end:\n",
    "                return item.offset\n",
    "\n"
   ]
  },
  {
   "cell_type": "code",
   "execution_count": 30,
   "metadata": {},
   "outputs": [
    {
     "name": "stdout",
     "output_type": "stream",
     "text": [
      "There are some pages that are not being compared. They include the range [22, 23)\n",
      "There were no mismatches for the input page ranges\n"
     ]
    }
   ],
   "source": [
    "# NOTE: Only compare the document body\n",
    "raw_list = [\n",
    "    {'start': 13, 'end': 22, 'offset': 0},\n",
    "    {'start': 23, 'end': len(base_doc), 'offset': 1}\n",
    "]\n",
    "page_list = PageList(raw_list)\n",
    "\n",
    "# The most common update is to a table of Authorised Dealers. \n",
    "try:\n",
    "    for i in range(13, len(base_doc)):\n",
    "        page_offset = page_list.find_offset(i)\n",
    "        if page_offset:\n",
    "            base_lines = get_page_text_as_list(base_doc, i)\n",
    "            new_lines = get_page_text_as_list(new_doc, i + page_offset)\n",
    "\n",
    "            if len(new_lines) != len(base_lines):\n",
    "                print(f\"Mismatched page number {i} (in base document)\")\n",
    "                break\n",
    "            else:\n",
    "                for j in range(len(new_lines)):\n",
    "                    if new_lines[j].strip() != base_lines[j].strip():\n",
    "                        print(f\"Page {i}, line {j} does not match\")\n",
    "                        break\n",
    "    print(\"There were no mismatches for the input page ranges\")\n",
    "except IndexError as e:\n",
    "    print(f\"error on page {i}\")\n",
    "\n"
   ]
  }
 ],
 "metadata": {
  "kernelspec": {
   "display_name": "Python 3.10.4 ('env': venv)",
   "language": "python",
   "name": "python3"
  },
  "language_info": {
   "codemirror_mode": {
    "name": "ipython",
    "version": 3
   },
   "file_extension": ".py",
   "mimetype": "text/x-python",
   "name": "python",
   "nbconvert_exporter": "python",
   "pygments_lexer": "ipython3",
   "version": "3.10.4"
  },
  "orig_nbformat": 4,
  "vscode": {
   "interpreter": {
    "hash": "007219f1a1c0c3993c3211d5a541b1fa109902aadb48cb5499ee55023bf45452"
   }
  }
 },
 "nbformat": 4,
 "nbformat_minor": 2
}
