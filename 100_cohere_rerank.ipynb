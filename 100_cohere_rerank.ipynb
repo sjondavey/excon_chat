{
 "cells": [
  {
   "cell_type": "code",
   "execution_count": 1,
   "metadata": {},
   "outputs": [],
   "source": [
    "import cohere\n",
    "\n",
    "# Get your cohere API key on: www.cohere.com\n",
    "co = cohere.Client(\"HZFWyqSeeJXruZksq0uYjM3gqS4zcGbXMqeL7NPG\")\n",
    "\n",
    "# Example query and passages\n",
    "query = \"What is the capital of the United States?\"\n",
    "documents = [\n",
    "   \"Carson City is the capital city of the American state of Nevada. At the  2010 United States Census, Carson City had a population of 55,274.\",\n",
    "   \"The Commonwealth of the Northern Mariana Islands is a group of islands in the Pacific Ocean that are a political division controlled by the United States. Its capital is Saipan.\",\n",
    "   \"Charlotte Amalie is the capital and largest city of the United States Virgin Islands. It has about 20,000 people. The city is on the island of Saint Thomas.\",\n",
    "   \"Washington, D.C. (also known as simply Washington or D.C., and officially as the District of Columbia) is the capital of the United States. It is a federal district. \",\n",
    "   \"Capital punishment (the death penalty) has existed in the United States since before the United States was a country. As of 2017, capital punishment is legal in 30 of the 50 states.\",\n",
    "   \"North Dakota is a state in the United States. 672,591 people lived in North Dakota in the year 2010. The capital and seat of government is Bismarck.\"\n",
    "   ]\n",
    "\n",
    "results = co.rerank(query=query, documents=documents, top_n=3, model=\"rerank-multilingual-v2.0\")"
   ]
  },
  {
   "cell_type": "code",
   "execution_count": 2,
   "metadata": {},
   "outputs": [
    {
     "data": {
      "text/plain": [
       "[RerankResult<document['text']: Washington, D.C. (also known as simply Washington or D.C., and officially as the District of Columbia) is the capital of the United States. It is a federal district. , index: 3, relevance_score: 0.9999989>, RerankResult<document['text']: Charlotte Amalie is the capital and largest city of the United States Virgin Islands. It has about 20,000 people. The city is on the island of Saint Thomas., index: 2, relevance_score: 0.9003547>, RerankResult<document['text']: Carson City is the capital city of the American state of Nevada. At the  2010 United States Census, Carson City had a population of 55,274., index: 0, relevance_score: 0.6807725>]"
      ]
     },
     "execution_count": 2,
     "metadata": {},
     "output_type": "execute_result"
    }
   ],
   "source": [
    "results"
   ]
  },
  {
   "cell_type": "code",
   "execution_count": 5,
   "metadata": {},
   "outputs": [
    {
     "data": {
      "text/plain": [
       "RerankResult<document['text']: Washington, D.C. (also known as simply Washington or D.C., and officially as the District of Columbia) is the capital of the United States. It is a federal district. , index: 3, relevance_score: 0.9999989>"
      ]
     },
     "execution_count": 5,
     "metadata": {},
     "output_type": "execute_result"
    }
   ],
   "source": [
    "results[0]"
   ]
  },
  {
   "cell_type": "code",
   "execution_count": 19,
   "metadata": {},
   "outputs": [
    {
     "name": "stdout",
     "output_type": "stream",
     "text": [
      "Washington, D.C. (also known as simply Washington or D.C., and officially as the District of Columbia) is the capital of the United States. It is a federal district. \n",
      "3\n",
      "0.9999989\n"
     ]
    }
   ],
   "source": [
    "hit = results[0]\n",
    "print(hit.document[\"text\"])\n",
    "print(hit.index)\n",
    "print(hit.relevance_score)"
   ]
  },
  {
   "cell_type": "code",
   "execution_count": 20,
   "metadata": {},
   "outputs": [],
   "source": [
    "sections = [\"J.(E)\", \"J.(G)\",\"B.16(A)\", \"B.9\", \"B.4(A)\", \"I.3(B)(ii)\",\"B.2(C)(i)\", \"B.1(D)(vi)\", \"B.1(F)\", \"J.(G)(iii)\", \"B.1(B)\"]\n",
    "\n",
    "top_scores = [0.0881, 0.0894, 0.1354, 0.1405, 0.1443, 0.1450, 0.1452, 0.1473, 0.1474, 0.1483, 0.1491]"
   ]
  },
  {
   "cell_type": "code",
   "execution_count": 6,
   "metadata": {},
   "outputs": [],
   "source": [
    "from src.chat_bot import ExconManual\n",
    "ad = True\n",
    "#ad = False # = ADLA chat\n",
    "\n",
    "logging_level = 15\n",
    "#logging_level = 20\n",
    "log_file = ''\n",
    "\n",
    "if ad:\n",
    "    path_to_manual_as_csv_file = \"./inputs/ad_manual.csv\"\n",
    "    path_to_definitions_as_parquet_file = \"./inputs/ad_definitions.parquet\"\n",
    "    path_to_index_as_parquet_file = \"./inputs/ad_index.parquet\"\n",
    "    chat_for_ad = True\n",
    "else:\n",
    "    path_to_manual_as_csv_file = \"./inputs/adla_manual.csv\"\n",
    "    path_to_definitions_as_parquet_file = \"./inputs/adla_definitions.parquet\"\n",
    "    path_to_index_as_parquet_file = \"./inputs/adla_index.parquet\"\n",
    "    chat_for_ad = False\n",
    "    #excon = ExconManual(path_to_manual_as_csv_file, path_to_definitions_as_parquet_file, path_to_index_as_parquet_file, chat_for_ad = False,log_file=log_file, logging_level=logging_level)\n",
    "\n",
    "\n",
    "excon = ExconManual(path_to_manual_as_csv_file, path_to_definitions_as_parquet_file, path_to_index_as_parquet_file, chat_for_ad = chat_for_ad, log_file=log_file, logging_level=logging_level)\n",
    "\n"
   ]
  },
  {
   "cell_type": "code",
   "execution_count": null,
   "metadata": {},
   "outputs": [],
   "source": [
    "#user_context = \"A non-resident wants to buy residential property in South Africa. What are the restrictions around doing this?\"\n",
    "#user_context = \"A South African citizen is emigrating. What is the process they need to follow to take all their cash offshore?\"\n",
    "#user_context = \"What is the Foreign investment limits for South African institutional investors?\"\n",
    "#user_context = \"Can a individual transfer his shares in a dual listed company to his offshore portfolio?\"\n",
    "#user_context = \"Can cash balances for individuals who are no longer tax resident be transferred offshore?\"\n",
    "#user_context = \"How do I need to report outbound cross-boarder payments?\"\n",
    "#user_context = \"Are there different categories for ALDAs?\"\n",
    "#user_context = \"Who can trade gold?\"\n",
    "\n",
    "#user_context = \"What documentary evidence is required?\"\n",
    "#user_context = \"What does cemad say about travel services?\"\n",
    "#user_context = \"Can I import gold?\"\n",
    "#user_context = \"how much money can an individual take offshore?\"\n",
    "#user_context = \"How much can an individual take offshore in a year?\"\n",
    "#user_context = \"what is the limit for commodities\"\n",
    "#user_context = \"How much can adult residents use for travel?\"\n",
    "\n",
    "\n",
    "query = \"How do I need to report outbound cross-boarder payments?\"\n",
    "query = \"What are prudential limits?\"\n",
    "query = \"what does the regulation state about travel?\"\n",
    "\n"
   ]
  },
  {
   "cell_type": "code",
   "execution_count": 95,
   "metadata": {},
   "outputs": [
    {
     "name": "stdout",
     "output_type": "stream",
     "text": [
      "Found 0 definitions below the threshold\n",
      "Found 9 sections below the threshold\n",
      "0.0266:            B.4(G)(i):          manual: How much money can an individual take offshore?\n",
      "0.1341:            B.4(G)(i):        question: What are the yearly spending limits for residents temporarily abroad?\n",
      "0.1412:             H.(H)(v):        question: Are there restrictions on the amount that exchange traded funds can invest offshore?\n",
      "0.1427:            B.2(B)(i):        question: What is the maximum amount I can transfer for foreign investments in a calendar year?\n",
      "0.1434:              B.17(E):        question: Can I keep foreign currency offshore?\n",
      "0.1448:           B.3(B)(iv):        question: Can income from trusts be transfered offshore?\n",
      "0.1458:          B.5(B)(iii):        question: Can an immigrants to acquire foreign currency to pay offshore obligations?\n",
      "0.1464:              B.17(B):        question: What do I do if I inherited offshore assets?\n",
      "0.1482:           B.2(C)(ii):        question: Can profits be kept offshore?\n"
     ]
    }
   ],
   "source": [
    "from src.embeddings import get_ada_embedding, get_closest_nodes, num_tokens_from_string\n",
    "\n",
    "query = \"How much can an individual take offshore in a year?\"\n",
    "\n",
    "question_embedding = get_ada_embedding(query)        \n",
    "threshold = 0.15\n",
    "relevant_definitions = get_closest_nodes(excon.df_definitions_all, embedding_column_name = \"Embedding\", question_embedding = question_embedding, threshold = threshold)\n",
    "relevant_sections = get_closest_nodes(excon.df_text_all, embedding_column_name = \"Embedding\", question_embedding = question_embedding, threshold = threshold)\n",
    "\n",
    "print(f\"Found {len(relevant_definitions)} definitions below the threshold\")\n",
    "for index, row in relevant_definitions.iterrows():\n",
    "    print(f'{row[\"cosine_distance\"]:.4f}: ({row[\"source\"]:>10}): {row[\"Definition\"]}')\n",
    "\n",
    "documents = []\n",
    "print(f'Found {len(relevant_sections)} sections below the threshold')\n",
    "for index, row in relevant_sections.iterrows():\n",
    "    print(f'{row[\"cosine_distance\"]:.4f}: {row[\"section\"]:>20}: {row[\"source\"]:>15}: {row[\"text\"]}')\n",
    "\n",
    "unique_sections = relevant_sections.drop_duplicates(subset = 'section').copy()\n",
    "unique_sections['document'] = unique_sections.section.apply(excon.get_regulation_detail)\n",
    "#df_definitions, df_search_sections = excon.similarity_search(query, threshold)\n",
    "\n"
   ]
  },
  {
   "cell_type": "code",
   "execution_count": 90,
   "metadata": {},
   "outputs": [
    {
     "name": "stdout",
     "output_type": "stream",
     "text": [
      "Section            B.2(B)(i) had score 0.1427, now is ranked 0.0049\n",
      "Section            B.4(G)(i) had score 0.0266, now is ranked 0.0035\n",
      "Section           B.2(C)(ii) had score 0.1482, now is ranked 0.0004\n",
      "Section              B.17(E) had score 0.1434, now is ranked 0.0000\n",
      "Section           B.3(B)(iv) had score 0.1448, now is ranked 0.0000\n",
      "Section              B.17(B) had score 0.1464, now is ranked 0.0000\n",
      "Section          B.5(B)(iii) had score 0.1458, now is ranked 0.0000\n",
      "Section             H.(H)(v) had score 0.1412, now is ranked 0.0000\n"
     ]
    }
   ],
   "source": [
    "results = co.rerank(query=query, documents=unique_sections[\"document\"].to_list(), top_n=11, model=\"rerank-multilingual-v2.0\")\n",
    "\n",
    "for i in range(len(unique_sections)):\n",
    "    original_index = results[i].index\n",
    "    print(f\"Section {unique_sections.iloc[original_index]['section']:>20} had score {unique_sections.iloc[original_index]['cosine_distance']:.4f}, now is ranked {results[i].relevance_score:.4f}\")\n"
   ]
  },
  {
   "cell_type": "code",
   "execution_count": 97,
   "metadata": {},
   "outputs": [],
   "source": [
    "import pandas as pd\n",
    "\n",
    "summary_data = excon.df_text_all[excon.df_text_all[\"source\"] == 'summary']\n",
    "new_rows = []\n",
    "for index, row in unique_sections.iterrows():\n",
    "    section = row['section']\n",
    "    summary = summary_data[summary_data[\"section\"] == section]\n",
    "    if len(summary) > 1:\n",
    "        for n in range(len(summary)):\n",
    "            new_row = row.copy()\n",
    "            new_row['document'] = summary.iloc[n]['text']\n",
    "            new_rows.append(new_row)\n",
    "    else:\n",
    "        new_rows.append(row)\n",
    "\n",
    "unique_sections = pd.DataFrame(new_rows)\n",
    "#unique_sections\n",
    "for index, row in unique_sections.iterrows():\n",
    "    section = row['section']\n",
    "    summary = summary_data[summary_data[\"section\"] == section]\n",
    "    if len(summary) != 1:\n",
    "        print(f'Section {section} has {len(summary)} parts')\n",
    "    else:        \n",
    "        unique_sections.at[index, 'document'] = summary.iloc[0]['text']\n",
    "\n",
    "results = co.rerank(query=query, documents=unique_sections[\"document\"].to_list(), top_n=11, model=\"rerank-multilingual-v2.0\")\n",
    "\n",
    "for i in range(len(unique_sections)):\n",
    "    original_index = results[i].index\n",
    "    print(f\"Section {unique_sections.iloc[original_index]['section']:>20} had score {unique_sections.iloc[original_index]['cosine_distance']:.4f}, now is ranked {results[i].relevance_score:.4f}\")"
   ]
  },
  {
   "cell_type": "code",
   "execution_count": 110,
   "metadata": {},
   "outputs": [
    {
     "name": "stdout",
     "output_type": "stream",
     "text": [
      "B.4 Single discretionary allowance and other miscellaneous payments for private individuals\n",
      "    (G) Residents temporarily abroad\n",
      "        (i) Subsistence allowance\n",
      "            (a) Residents temporarily abroad, may avail of the R1 million single discretionary allowance and the R10 million foreign capital allowance per calendar year without returning to South Africa.\n",
      "            (b) The requirements under section B.2(B)(i) of the Authorised Dealer Manual and subsection (A) above must be adhered to.\n",
      "            (c) Where residents temporarily abroad make use of a general or special power of attorney to facilitate such transfers, a certified copy of the applicant's valid green barcoded identity document or Smart identity document card must accompany the power of attorney.\n",
      "            (d) In terms of the TCS system, a TCS PIN letter will be issued to the taxpayer that will contain the tax number and TCS PIN. Authorised Dealers must use the TCS PIN to verify the taxpayer's tax compliance status via SARS eFiling prior to effecting any transfers. Authorised Dealers must ensure that the amount to be transferred does not exceed the amount approved by SARS. Authorised Dealers should note that the TCS PIN can expire and should the Authorised Dealers find that the TCS PIN has indeed expired, then the Authorised Dealer must insist on a new TCS PIN to verify the taxpayer's tax compliance status. Also see section B.2(B)(i)(d) and/or (e) of the Authorised Dealer Manual.\n",
      "            (e) Residents temporarily abroad may use their local debit and/or credit cards within the overall single discretionary allowance limit of R1 million per applicant during a calendar year.\n",
      "            (f) The annual limit of the R1 million single discretionary allowance and the R10 million foreign capital allowance dispensations may not be exceeded.\n",
      "            (g) Residents temporarily abroad may receive pension and retirement annuities as mentioned in section B.3(A)(iv) of the Authorised Dealer Manual as well as monetary gifts and loans as mentioned in subsection (A)(x) above, however, no other foreign currency may be availed of without the specific prior written approval of the Financial Surveillance Department.\n"
     ]
    }
   ],
   "source": [
    "print(excon.get_regulation_detail('B.4(G)(i)'))"
   ]
  },
  {
   "cell_type": "code",
   "execution_count": 78,
   "metadata": {},
   "outputs": [
    {
     "data": {
      "text/html": [
       "<div>\n",
       "<style scoped>\n",
       "    .dataframe tbody tr th:only-of-type {\n",
       "        vertical-align: middle;\n",
       "    }\n",
       "\n",
       "    .dataframe tbody tr th {\n",
       "        vertical-align: top;\n",
       "    }\n",
       "\n",
       "    .dataframe thead th {\n",
       "        text-align: right;\n",
       "    }\n",
       "</style>\n",
       "<table border=\"1\" class=\"dataframe\">\n",
       "  <thead>\n",
       "    <tr style=\"text-align: right;\">\n",
       "      <th></th>\n",
       "      <th>section</th>\n",
       "      <th>text</th>\n",
       "      <th>Embedding</th>\n",
       "      <th>source</th>\n",
       "      <th>cosine_distance</th>\n",
       "    </tr>\n",
       "  </thead>\n",
       "  <tbody>\n",
       "    <tr>\n",
       "      <th>539</th>\n",
       "      <td>B.4(B)(i)</td>\n",
       "      <td>There is no limit on the amount of Rand that c...</td>\n",
       "      <td>[0.026708412915468216, -0.01266176626086235, 0...</td>\n",
       "      <td>summary</td>\n",
       "      <td>0.191584</td>\n",
       "    </tr>\n",
       "  </tbody>\n",
       "</table>\n",
       "</div>"
      ],
      "text/plain": [
       "       section                                               text  \\\n",
       "539  B.4(B)(i)  There is no limit on the amount of Rand that c...   \n",
       "\n",
       "                                             Embedding   source  \\\n",
       "539  [0.026708412915468216, -0.01266176626086235, 0...  summary   \n",
       "\n",
       "     cosine_distance  \n",
       "539         0.191584  "
      ]
     },
     "execution_count": 78,
     "metadata": {},
     "output_type": "execute_result"
    }
   ],
   "source": [
    "summary_data[summary_data[\"section\"].str.startswith('B.4(B)(i)')]"
   ]
  },
  {
   "cell_type": "code",
   "execution_count": 66,
   "metadata": {},
   "outputs": [
    {
     "name": "stdout",
     "output_type": "stream",
     "text": [
      "Section            B.2(I)(i) had score 0.0798, now is ranked 0.7856\n",
      "Section           B.2(I)(iv) had score 0.1435, now is ranked 0.3523\n",
      "Section            B.2(I)(v) had score 0.1256, now is ranked 0.0213\n",
      "Section           B.2(H)(iv) had score 0.1364, now is ranked 0.0049\n"
     ]
    }
   ],
   "source": [
    "for i in range(len(unique_sections)):\n",
    "    original_index = results[i].index\n",
    "    print(f\"Section {unique_sections.iloc[original_index]['section']:>20} had score {unique_sections.iloc[original_index]['cosine_distance']:.4f}, now is ranked {results[i].relevance_score:.4f}\")"
   ]
  },
  {
   "cell_type": "code",
   "execution_count": 36,
   "metadata": {},
   "outputs": [
    {
     "name": "stdout",
     "output_type": "stream",
     "text": [
      "Number of tokens: 710\n",
      "B.4 Single discretionary allowance and other miscellaneous payments for private individuals\n",
      "    (A) Single discretionary allowance per calendar year\n",
      "        (i) Residents (natural persons) who are 18 years and older may be permitted to avail of a single discretionary allowance within an overall limit of R1 million per individual per calendar year without the requirement to obtain a TCS PIN letter, which may be used for any legal purpose abroad (including for investment purposes as well as the sending of gift parcels in lieu of cash excluding gold and jewellery). Authorised Dealers must ensure that the purpose for which the funds are used abroad must be reported under the correct category on the FinSurv Reporting System.\n",
      "        (ii) This dispensation may be utilised solely at the discretion of the resident without any documentary evidence having to be produced to the Authorised Dealer except for travel purposes outside the CMA where a passenger ticket needs to be produced.\n",
      "        (iii) The single discretionary allowance may be transferred abroad in Rand, however, transfers of a capital nature must be converted to foreign currency through an Authorised Dealer.\n",
      "        (iv) The resident individual must produce a valid green bar-coded South African identity document or Smart identity document card for identification purposes and the identity number is mandatory when reporting the transaction in terms of the Reporting System.\n",
      "        (v) The requirements of (ix) below as well as that of section A.3(B)(xxi) of the Authorised Dealer Manual must be complied with.\n",
      "        (vi) Authorised Dealers must ensure that the resident importers making import payments under this dispensation have a valid customs client number (CCN) issued by Customs which must be recorded on the Reporting System. The rules published under sections 59A and 120 of the Customs and Excise Act, 1964 (Act No. 91 of 1964), with regard to the use of the registration code number 70707070 must be adhered to.\n",
      "        (vii) The provisions of Regulation 12 must at all times be complied with by the importer.\n",
      "        (viii) Authorised Dealers should advise their clients that payments for current account transactions as provided for elsewhere in the Authorised Dealer Manual may be effected abroad against the presentation of documentary evidence and such payments will not be deducted from an individual's single discretionary allowance limit.\n",
      "        (ix) To ensure accurate and comprehensive reporting of all data on cross-border transactions, Authorised Dealers must impress upon their clients the need to provide accurate information to enable the Authorised Dealers to correctly report the purpose of the transaction via the Reporting System. In addition, all transactions executed under this dispensation must be indicated in the subject field as ‘SDA' with the description ‘SDA' when reporting the transaction on the Reporting System.\n",
      "        (x) Authorised Dealers may allow resident individuals to transfer monetary gifts and loans within the single discretionary allowance limit of R1 million per applicant during a calendar year to non-resident individuals and to resident individuals who are overseas temporarily, excluding those residents who are abroad on holiday or business travel.\n",
      "        (xi) In addition to monetary gifts, residents may export Krugerrand coins or the equivalent in fractional Krugerrand coins up to an amount of R30 000 as gifts to non-residents subject to the completion of the prescribed SARS Customs Declaration.\n",
      "        (xii) The authority conveyed by this section may not be used to disguise transfers for other purposes for which foreign currency would be refused under the appropriate sections of the Authorised Dealer Manual.\n"
     ]
    }
   ],
   "source": [
    "section = excon.get_regulation_detail('B.4(A)')\n",
    "print(f'Number of tokens: {num_tokens_from_string(section)}')\n",
    "print(section)\n"
   ]
  },
  {
   "cell_type": "code",
   "execution_count": null,
   "metadata": {},
   "outputs": [],
   "source": []
  }
 ],
 "metadata": {
  "kernelspec": {
   "display_name": "Python 3.10.4 ('env': venv)",
   "language": "python",
   "name": "python3"
  },
  "language_info": {
   "codemirror_mode": {
    "name": "ipython",
    "version": 3
   },
   "file_extension": ".py",
   "mimetype": "text/x-python",
   "name": "python",
   "nbconvert_exporter": "python",
   "pygments_lexer": "ipython3",
   "version": "3.10.4"
  },
  "orig_nbformat": 4,
  "vscode": {
   "interpreter": {
    "hash": "007219f1a1c0c3993c3211d5a541b1fa109902aadb48cb5499ee55023bf45452"
   }
  }
 },
 "nbformat": 4,
 "nbformat_minor": 2
}
