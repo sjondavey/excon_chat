{
 "cells": [
  {
   "cell_type": "code",
   "execution_count": 1,
   "metadata": {},
   "outputs": [],
   "source": [
    "import importlib\n",
    "import src.chat_bot\n",
    "importlib.reload(src.chat_bot)\n",
    "from src.chat_bot import ExconManual"
   ]
  },
  {
   "cell_type": "code",
   "execution_count": 84,
   "metadata": {},
   "outputs": [
    {
     "name": "stdout",
     "output_type": "stream",
     "text": [
      "Loaded Authorised Dealer Manual\n"
     ]
    }
   ],
   "source": [
    "ad = True\n",
    "#ad = False # = ADLA chat\n",
    "if ad:\n",
    "    print(\"Loaded Authorised Dealer Manual\")\n",
    "else:\n",
    "    print(\"Loaded ADLA manual\")\n",
    "\n",
    "logging_level = 15\n",
    "#logging_level = 20\n",
    "log_file = ''\n",
    "\n",
    "if ad:\n",
    "    path_to_manual_as_csv_file = \"./inputs/ad_manual.csv\"\n",
    "    path_to_definitions_as_parquet_file = \"./inputs/ad_definitions.parquet\"\n",
    "    path_to_index_as_parquet_file = \"./inputs/ad_index.parquet\"\n",
    "    chat_for_ad = True\n",
    "else:\n",
    "    path_to_manual_as_csv_file = \"./inputs/adla_manual.csv\"\n",
    "    path_to_definitions_as_parquet_file = \"./inputs/adla_definitions.parquet\"\n",
    "    path_to_index_as_parquet_file = \"./inputs/adla_index.parquet\"\n",
    "    chat_for_ad = False\n",
    "\n",
    "\n",
    "excon = ExconManual(path_to_manual_as_csv_file, path_to_definitions_as_parquet_file, path_to_index_as_parquet_file, chat_for_ad = chat_for_ad, log_file=log_file, logging_level=logging_level)\n"
   ]
  },
  {
   "cell_type": "code",
   "execution_count": 4,
   "metadata": {},
   "outputs": [
    {
     "name": "stdout",
     "output_type": "stream",
     "text": [
      "A.3 The terms and conditions for submission of an application for authorisation to conduct the business of an Authorised Dealer in foreign exchange with limited authority\n",
      "    (B) Application procedure\n",
      "        (ii) The completed prescribed 'Application for authorisation to conduct the business of an Authorised Dealer in foreign exchange with limited authority, a copy of which is attached hereto as Annexure A, must be accompanied by the following information:\n",
      "            (a) a certified copy of the Notice of Incorporation (Form CoR14.1) issued by the CIPC, as proof of the registration of the limited liability company in South Africa under the Companies Act, 2008 (Act No. 71 of 2008);\n",
      "        (ii) the manner in which and the processes by which the ADLA conducts additional CDD measures in respect of legal persons, trusts and partnerships;\n"
     ]
    }
   ],
   "source": [
    "print(excon.get_regulation_detail(\"A.3 (B)(ii)(a)\"))"
   ]
  },
  {
   "cell_type": "code",
   "execution_count": 60,
   "metadata": {},
   "outputs": [],
   "source": [
    "#model_to_use=\"gpt-3.5-turbo\"\n",
    "#model_to_use = \"gpt-4-1106-preview\"\n",
    "model_to_use=\"gpt-4\"\n",
    "#model_to_use=\"gpt-3.5-turbo-16k\""
   ]
  },
  {
   "cell_type": "code",
   "execution_count": 67,
   "metadata": {},
   "outputs": [],
   "source": [
    "import pandas as pd\n",
    "df = pd.read_parquet(path_to_index_as_parquet_file, engine=\"pyarrow\")\n"
   ]
  },
  {
   "cell_type": "code",
   "execution_count": 50,
   "metadata": {},
   "outputs": [
    {
     "data": {
      "text/html": [
       "<div>\n",
       "<style scoped>\n",
       "    .dataframe tbody tr th:only-of-type {\n",
       "        vertical-align: middle;\n",
       "    }\n",
       "\n",
       "    .dataframe tbody tr th {\n",
       "        vertical-align: top;\n",
       "    }\n",
       "\n",
       "    .dataframe thead th {\n",
       "        text-align: right;\n",
       "    }\n",
       "</style>\n",
       "<table border=\"1\" class=\"dataframe\">\n",
       "  <thead>\n",
       "    <tr style=\"text-align: right;\">\n",
       "      <th></th>\n",
       "      <th>section</th>\n",
       "      <th>text</th>\n",
       "      <th>Embedding</th>\n",
       "      <th>source</th>\n",
       "    </tr>\n",
       "  </thead>\n",
       "  <tbody>\n",
       "    <tr>\n",
       "      <th>917</th>\n",
       "      <td>B.1(D)(i)</td>\n",
       "      <td>What are the guidelines for making advance pay...</td>\n",
       "      <td>[0.002657160861417651, -0.008408437483012676, ...</td>\n",
       "      <td>question</td>\n",
       "    </tr>\n",
       "  </tbody>\n",
       "</table>\n",
       "</div>"
      ],
      "text/plain": [
       "       section                                               text  \\\n",
       "917  B.1(D)(i)  What are the guidelines for making advance pay...   \n",
       "\n",
       "                                             Embedding    source  \n",
       "917  [0.002657160861417651, -0.008408437483012676, ...  question  "
      ]
     },
     "execution_count": 50,
     "metadata": {},
     "output_type": "execute_result"
    }
   ],
   "source": [
    "tmp_df = df[(df[\"section\"].str.startswith(\"B.1(D)(i)\")) & (df[\"source\"] == \"question\")]\n",
    "#tmp_df = df[(df[\"section\"].str.startswith(\"B.1(D)(i)\")) & (df[\"source\"] == \"heading\")]\n",
    "tmp_df\n",
    "# for index, row in tmp_df.iterrows():\n",
    "#     print(f'{index}: {row[\"text\"]}\\n')\n"
   ]
  },
  {
   "cell_type": "code",
   "execution_count": 71,
   "metadata": {},
   "outputs": [],
   "source": [
    "new_question = index_2\n",
    "new_embedding = index_2_e\n",
    "source = \"manual\""
   ]
  },
  {
   "cell_type": "code",
   "execution_count": 82,
   "metadata": {},
   "outputs": [],
   "source": [
    "#index_to_add = len(df)\n",
    "df.loc[index_to_add,'text'] = new_question\n",
    "df.loc[index_to_add,'Embedding'] = new_embedding\n",
    "df.loc[index_to_add,'source'] = source\n",
    "df.loc[index_to_add,'section'] = 'B.1(D)(i)'\n"
   ]
  },
  {
   "cell_type": "code",
   "execution_count": 81,
   "metadata": {},
   "outputs": [
    {
     "data": {
      "text/plain": [
       "'What are the guidelines for making advance payments?'"
      ]
     },
     "execution_count": 81,
     "metadata": {},
     "output_type": "execute_result"
    }
   ],
   "source": [
    "#df.loc[index_to_add,'source']\n",
    "\n",
    "df.loc[index_to_add,'text']\n",
    "#df.loc[index_to_add,'Embedding']"
   ]
  },
  {
   "cell_type": "code",
   "execution_count": 80,
   "metadata": {},
   "outputs": [
    {
     "data": {
      "text/html": [
       "<div>\n",
       "<style scoped>\n",
       "    .dataframe tbody tr th:only-of-type {\n",
       "        vertical-align: middle;\n",
       "    }\n",
       "\n",
       "    .dataframe tbody tr th {\n",
       "        vertical-align: top;\n",
       "    }\n",
       "\n",
       "    .dataframe thead th {\n",
       "        text-align: right;\n",
       "    }\n",
       "</style>\n",
       "<table border=\"1\" class=\"dataframe\">\n",
       "  <thead>\n",
       "    <tr style=\"text-align: right;\">\n",
       "      <th></th>\n",
       "      <th>section</th>\n",
       "      <th>text</th>\n",
       "      <th>Embedding</th>\n",
       "      <th>source</th>\n",
       "    </tr>\n",
       "  </thead>\n",
       "  <tbody>\n",
       "    <tr>\n",
       "      <th>0</th>\n",
       "      <td>Legal context</td>\n",
       "      <td>Legal context</td>\n",
       "      <td>[0.008710513822734356, -0.01103331707417965, 0...</td>\n",
       "      <td>heading</td>\n",
       "    </tr>\n",
       "    <tr>\n",
       "      <th>1</th>\n",
       "      <td>A.2(A)</td>\n",
       "      <td>Authorised entities. Authorised Dealers</td>\n",
       "      <td>[-0.009998462162911892, -0.009398686699569225,...</td>\n",
       "      <td>heading</td>\n",
       "    </tr>\n",
       "    <tr>\n",
       "      <th>2</th>\n",
       "      <td>A.2(B)</td>\n",
       "      <td>Authorised entities. Authorised Dealers in for...</td>\n",
       "      <td>[-0.009065092541277409, -0.012516901828348637,...</td>\n",
       "      <td>heading</td>\n",
       "    </tr>\n",
       "    <tr>\n",
       "      <th>3</th>\n",
       "      <td>A.3(A)</td>\n",
       "      <td>Duties and responsibilities of Authorised Deal...</td>\n",
       "      <td>[0.009497863240540028, -0.01100919209420681, -...</td>\n",
       "      <td>heading</td>\n",
       "    </tr>\n",
       "    <tr>\n",
       "      <th>4</th>\n",
       "      <td>A.3(B)</td>\n",
       "      <td>Duties and responsibilities of Authorised Deal...</td>\n",
       "      <td>[-0.010621572844684124, -0.014073583297431469,...</td>\n",
       "      <td>heading</td>\n",
       "    </tr>\n",
       "    <tr>\n",
       "      <th>...</th>\n",
       "      <td>...</td>\n",
       "      <td>...</td>\n",
       "      <td>...</td>\n",
       "      <td>...</td>\n",
       "    </tr>\n",
       "    <tr>\n",
       "      <th>1494</th>\n",
       "      <td>J.(G)</td>\n",
       "      <td>Rules for reporting outward payments using the...</td>\n",
       "      <td>[0.005922725424170494, -0.004037913400679827, ...</td>\n",
       "      <td>summary</td>\n",
       "    </tr>\n",
       "    <tr>\n",
       "      <th>1495</th>\n",
       "      <td>B.4(G)(i)</td>\n",
       "      <td>How much money can an individual take offshore?</td>\n",
       "      <td>[0.01233571209013462, -0.03362925723195076, 0....</td>\n",
       "      <td>manual</td>\n",
       "    </tr>\n",
       "    <tr>\n",
       "      <th>1496</th>\n",
       "      <td>B.4(B)(i)</td>\n",
       "      <td>Is there any general guidance on travel?</td>\n",
       "      <td>[0.0002241560723632574, 0.000385825231205672, ...</td>\n",
       "      <td>manual</td>\n",
       "    </tr>\n",
       "    <tr>\n",
       "      <th>1497</th>\n",
       "      <td>B.4(B)(ii)</td>\n",
       "      <td>What are the travel allowance limits?</td>\n",
       "      <td>[0.01554630883038044, -0.011501027271151543, 0...</td>\n",
       "      <td>manual</td>\n",
       "    </tr>\n",
       "    <tr>\n",
       "      <th>1498</th>\n",
       "      <td>NaN</td>\n",
       "      <td>What are the guidelines for making advance pay...</td>\n",
       "      <td>[0.0019625371787697077, -0.004648024681955576,...</td>\n",
       "      <td>manual</td>\n",
       "    </tr>\n",
       "  </tbody>\n",
       "</table>\n",
       "<p>1499 rows × 4 columns</p>\n",
       "</div>"
      ],
      "text/plain": [
       "            section                                               text  \\\n",
       "0     Legal context                                      Legal context   \n",
       "1            A.2(A)            Authorised entities. Authorised Dealers   \n",
       "2            A.2(B)  Authorised entities. Authorised Dealers in for...   \n",
       "3            A.3(A)  Duties and responsibilities of Authorised Deal...   \n",
       "4            A.3(B)  Duties and responsibilities of Authorised Deal...   \n",
       "...             ...                                                ...   \n",
       "1494          J.(G)  Rules for reporting outward payments using the...   \n",
       "1495      B.4(G)(i)    How much money can an individual take offshore?   \n",
       "1496      B.4(B)(i)           Is there any general guidance on travel?   \n",
       "1497     B.4(B)(ii)              What are the travel allowance limits?   \n",
       "1498            NaN  What are the guidelines for making advance pay...   \n",
       "\n",
       "                                              Embedding   source  \n",
       "0     [0.008710513822734356, -0.01103331707417965, 0...  heading  \n",
       "1     [-0.009998462162911892, -0.009398686699569225,...  heading  \n",
       "2     [-0.009065092541277409, -0.012516901828348637,...  heading  \n",
       "3     [0.009497863240540028, -0.01100919209420681, -...  heading  \n",
       "4     [-0.010621572844684124, -0.014073583297431469,...  heading  \n",
       "...                                                 ...      ...  \n",
       "1494  [0.005922725424170494, -0.004037913400679827, ...  summary  \n",
       "1495  [0.01233571209013462, -0.03362925723195076, 0....   manual  \n",
       "1496  [0.0002241560723632574, 0.000385825231205672, ...   manual  \n",
       "1497  [0.01554630883038044, -0.011501027271151543, 0...   manual  \n",
       "1498  [0.0019625371787697077, -0.004648024681955576,...   manual  \n",
       "\n",
       "[1499 rows x 4 columns]"
      ]
     },
     "execution_count": 80,
     "metadata": {},
     "output_type": "execute_result"
    }
   ],
   "source": [
    "df"
   ]
  },
  {
   "cell_type": "code",
   "execution_count": 83,
   "metadata": {},
   "outputs": [],
   "source": [
    "df.to_parquet(path_to_index_as_parquet_file, engine=\"pyarrow\")"
   ]
  },
  {
   "cell_type": "code",
   "execution_count": 40,
   "metadata": {},
   "outputs": [],
   "source": [
    "heading_1 = \"Payment for imports. Terms of payment for imports. Advance payments\"\n",
    "heading_1_e = get_ada_embedding(heading_1)\n",
    "\n",
    "p_1 = \"Advance Payments for Imports\"\n",
    "p_1_e = get_ada_embedding(p_1)\n",
    "p_2 = \"Details on Advance Payment Conditions under Import Payment Terms\"\n",
    "p_2_e = get_ada_embedding(p_2)\n",
    "p_3 = \"Exploring the Mechanism of Advance Payments in Import Trade\"\n",
    "p_3_e = get_ada_embedding(p_3)\n"
   ]
  },
  {
   "cell_type": "code",
   "execution_count": 87,
   "metadata": {},
   "outputs": [],
   "source": [
    "from src.embeddings import get_ada_embedding\n",
    "from scipy.spatial import distance\n",
    "\n",
    "index_1 = \"What are the guidelines for making advance payments for imports in foreign currency?\"\n",
    "index_1_e = get_ada_embedding(index_1)\n",
    "index_2 = \"What are the guidelines for making advance payments?\"\n",
    "index_2_e = get_ada_embedding(index_2)\n",
    "index_3 = \"What are the guidelines for making advance payments for imports?\"\n",
    "index_3_e = get_ada_embedding(index_3)\n",
    "\n",
    "#question = \"What documentation is required for an advance payments?\"\n",
    "question = \"What documentation is required for an advance payments for imports?\"\n",
    "question_e = get_ada_embedding(question)\n",
    "\n"
   ]
  },
  {
   "cell_type": "code",
   "execution_count": 88,
   "metadata": {},
   "outputs": [
    {
     "name": "stdout",
     "output_type": "stream",
     "text": [
      "question to index_1  : 0.0835\n",
      "question to index_2  : 0.1237\n",
      "question to index_3  : 0.0639\n",
      "question to heading_2: 0.1091\n",
      "question to p_1      : 0.0887\n",
      "question to p_2      : 0.0942\n",
      "question to p_3      : 0.1147\n"
     ]
    }
   ],
   "source": [
    "\n",
    "print(f'question to index_1  : {distance.cosine(question_e, index_1_e):.4f}')\n",
    "print(f'question to index_2  : {distance.cosine(question_e, index_2_e):.4f}')\n",
    "print(f'question to index_3  : {distance.cosine(question_e, index_3_e):.4f}')\n",
    "print(f'question to heading_2: {distance.cosine(question_e, heading_1_e):.4f}')\n",
    "print(f'question to p_1      : {distance.cosine(question_e, p_1_e):.4f}')\n",
    "print(f'question to p_2      : {distance.cosine(question_e, p_2_e):.4f}')\n",
    "print(f'question to p_3      : {distance.cosine(question_e, p_3_e):.4f}')\n"
   ]
  },
  {
   "cell_type": "code",
   "execution_count": 86,
   "metadata": {},
   "outputs": [
    {
     "name": "stderr",
     "output_type": "stream",
     "text": [
      "INFO:src.chat_bot:User Question:\n",
      "What documentation is required for an advance payments for imports?\n",
      "DEV:src.chat_bot:#################   Similarity Search       #################\n",
      "DEV:src.chat_bot:--   No relevant definitions found\n",
      "DEV:src.chat_bot:Found more than 15 references that are closer than the input threshold of 0.15. Capping them so there are only 15\n",
      "DEV:src.chat_bot:--   Relevant Sections\n",
      "DEV:src.chat_bot:0.0765:               B.1(B):        question: What documents are required to make foreign currency payments for imports?\n",
      "DEV:src.chat_bot:0.0822:               B.1(B):         heading: Payment for imports. Requisite documentation\n",
      "DEV:src.chat_bot:0.0835:            B.1(D)(i):        question: What are the guidelines for making advance payments for imports in foreign currency?\n",
      "DEV:src.chat_bot:0.0978:           B.1(D)(iv):        question: What are the requirements for extending credit terms for imports?\n",
      "DEV:src.chat_bot:0.1012:         D.1(C)(i)(d):        question: What documentation is required for import-related transactions for periods longer than 12 months?\n",
      "DEV:src.chat_bot:0.1014:               B.1(F):        question: What documentation is required to verify that goods have been cleared by Customs?\n",
      "DEV:src.chat_bot:0.1039:               B.1(F):        question: What is the time frame for presenting the required Customs Declaration for advanced payments?\n",
      "DEV:src.chat_bot:0.1090:            B.1(D)(i):         heading: Payment for imports. Terms of payment for imports. Advance payments\n",
      "DEV:src.chat_bot:0.1096:           B.1(D)(ii):        question: Can I make advance payments for imported capital goods?\n",
      "DEV:src.chat_bot:0.1177:            B.1(D)(v):        question: Can payments for imports still be made if the required documents are older than a year?\n",
      "DEV:src.chat_bot:0.1191:               B.1(F):         heading: Payment for imports. Evidence of importation\n",
      "DEV:src.chat_bot:0.1192:           B.1(D)(vi):         summary: Payments for imports against an invoice only or against both an invoice and transport documents should be reported under the advance payment category 101-01 to 101-11. Advance payments for clients availing of the imports undertaking dispensation are to be reported under category 102-01 to 102-11. However, for payments related to imports where the goods have already been released by Customs and the prescribed SARS Customs Declaration with the MRN is issued, the appropriate import category excluding 101-01 to 101-11 should be used.\n",
      "DEV:src.chat_bot:0.1194:            B.1(D)(v):        question: Is it possible to process import payments with outdated documentation?\n",
      "DEV:src.chat_bot:0.1207:              B.19(F):        question: What documentation is required to export defective goods?\n",
      "DEV:src.chat_bot:0.1214:               B.8(C):        question: What documentation is required for making subsequent payments for a tour?\n",
      "DEV:src.chat_bot:Top result: B.1(B) with a cosine distance of 0.0765\n",
      "DEV:src.chat_bot:Most common section: B.1(F) with a minimum cosine distance of 0.10141415932451414\n",
      "DEV:src.chat_bot:References found that occur multiple times\n",
      "DEV:src.chat_bot:Reference: B.1(D)(i), Count: 2, Min Cosine-Distance: 0.08349325750056857\n",
      "DEV:src.chat_bot:Reference: B.1(D)(v), Count: 2, Min Cosine-Distance: 0.11773555294325222\n",
      "DEV:src.chat_bot:--   Filtered Sections\n",
      "DEV:src.chat_bot:0.0765 (*min dist):               B.1(B):  2\n",
      "DEV:src.chat_bot:0.1014 (*min dist):               B.1(F):  3\n",
      "DEV:src.chat_bot:0.0835 (*min dist):            B.1(D)(i):  2\n",
      "DEV:src.chat_bot:0.1177 (*min dist):            B.1(D)(v):  2\n",
      "DEV:src.chat_bot:#################   RAG Prompts   #################\n",
      "INFO:src.chat_bot:System Prompt:\n",
      "You are answering questions for an Authorised Dealer (AD) based only on the relevant sections from the 'Currency and Exchange Manual for Authorised Dealers' (Manual or CEMAD) that are provided. You have three options:\n",
      "1) Answer the question. Preface an answer with the tag 'ANSWER:'. If possible, end the answer with the reference to the section or sections you used to answer the question.\n",
      "2) Request additional documentation. If, in the body of the sections provided, there is a reference to another section of the Manual that is directly relevant and not already provided, respond with the word 'SECTION:' followed by the full section reference.\n",
      "3) State 'NONE:' and nothing else in all other cases\n",
      "\n",
      "Note: In the manual sections are numbered like A.1(A) or C.(C)(iii)(c)(cc)(3). The first index uses the regex pattern r'[A-Z]\\.\\d(0, 2)'. Thereafter, each sub-index is surrounded by round brackets\n",
      "INFO:src.chat_bot:User Prompt with RAG:\n",
      "Question: What documentation is required for an advance payments for imports?\n",
      "\n",
      "Sections from the Manual\n",
      "B.1 Payment for imports\n",
      "    (B) Requisite documentation\n",
      "        (i) Authorised Dealers may only effect foreign currency payments for imports against the following documentation:\n",
      "            (a) commercial invoices issued by the supplier;\n",
      "            (b) any one of the transport documents as prescribed by the International Chamber of Commerce Uniform Customs and Practice for Documentary Credits (UCP 600) and its supplement for electronic presentation, the eUCP, evidencing transport of the relative goods to South Africa; or\n",
      "            (c) Freight Forwarders Certificate of Receipt or Freight Forwarders Certificate of Transport; and\n",
      "            (d) consignee's copy of the prescribed SARS Customs Declaration.\n",
      "        (ii) In lieu of the documents referred to in (i)(b) and (c) above, arrival notifications issued by shipping companies may be tendered.\n",
      "        (iii) Imports from Botswana may, however, be paid for against a commercial invoice issued by the supplier and the consignee's copy of the prescribed SARS Customs Declaration.\n",
      "B.1 Payment for imports\n",
      "    (D) Terms of payment for imports\n",
      "        (i) Advance payments\n",
      "            (a) Authorised Dealers may provide foreign currency in respect of advance payments to cover the cost of permissible imports, other than capital goods, against the presentation of an invoice.\n",
      "            (b) Authorised Dealers must, in respect of payments in excess of R50 000, subsequently view a copy of the prescribed SARS Customs Declaration bearing the MRN, to ensure that the foreign currency provided had been utilised for the purpose stated and that the goods have been imported into South Africa.\n",
      "            (c) All foreign exchange transactions involving advance payments for imports are subject to the condition that the Authorised Dealer making the advance payment has procedures in place to follow up and report non-compliance to the Financial Surveillance Department.\n",
      "            (d) Authorised Dealers must also inform importers of their obligations in terms of Regulation 12.\n",
      "B.1 Payment for imports\n",
      "    (F) Evidence of importation\n",
      "        (i) Authorised Dealers must insist upon the presentation to them of the prescribed SARS Customs Declaration bearing the MRN as evidence that goods in respect of which transfers have been effected in terms of subsection (C) above have been cleared by Customs. These documents must be presented at the time foreign currency payments for imports are made where the goods have already been cleared by Customs, or in the case of advance payments in excess of R50 000 within four months of the date of payment. The detailed information shown on these documents must be checked against the information obtained at the time payment for the relative import was made in order to verify that the payment made relates to the goods that have been cleared.\n",
      "        (ii) Where the prescribed SARS Customs Declaration reflects the Customs Requested Procedure Code indicating that the goods are held in bonded warehouse, Authorised Dealers must diarise to view subsequent documentation from Customs, confirming the removal of the goods in bonded warehouse.\n",
      "        (iii) Authorised Dealers must be alert to the presentation of documentation that would indicate that the goods have been exported from South Africa. Such transactions are regarded as merchanting transactions and are subject to the provisions outlined in section B.12(A) of the Authorised Dealer Manual.\n",
      "        (iv) Where goods for which payment has been made from South Africa have not been or will not be consigned to South Africa within four months of the date of payment, the importer must within 14 days of the expiry of such period advise the Authorised Dealer concerned in writing, who should report the matter to the Financial Surveillance Department.\n",
      "        (v) Authorised Dealers should on a monthly basis diarise to pursue all outstanding import verifications with the importers concerned in writing (via registered mail or email) during the above-mentioned four month period. Should no response or an unsatisfactory response be received, the matter should at any time after the four month period has lapsed but not later than ten months from the original payment date, be reported to the Financial Surveillance Department. In this regard, a fully motivated application must be submitted providing details of the transaction(s) including the customer name, value date, transaction reference number, Rand amount, and the Customs client number (CCN) reported on the FinSurv Reporting System. The outstanding advance payment transaction may be discharged from the Import Verification System only after confirmation has been received from the Financial Surveillance Department.\n",
      "        (vi) Where the relative consignment has been lost or resold in the country of supply, Authorised Dealers are responsible for ensuring that the foreign currency proceeds of any insurance claim or of the sale of the goods are properly accounted for in terms of the provisions of Regulation 6. The Import Verification System must be updated accordingly.\n",
      "        (vii) Authorised Dealers should note that non-compliance with the above directives will be viewed in a serious light.\n",
      "        (viii) Digital copies of the documents must be retained for a period of five years by Authorised Dealers for inspection purposes. Authorised Dealers should also point out to their clients that original documents must be retained for a period of five years for inspection purposes.\n",
      "B.1 Payment for imports\n",
      "    (D) Terms of payment for imports\n",
      "        (v) Payments older than 12 months\n",
      "            (a) Payments in respect of imports where the required import documents are older than 12 months may be effected, provided that no interest has been charged by the foreign supplier.\n",
      "\n",
      "INFO:src.chat_bot:assistant:\n",
      " For advance payments for imports, the required documentation includes an invoice for the cost of permissible imports. If the payment exceeds R50 000, the Authorised Dealer must subsequently view a copy of the prescribed SARS Customs Declaration bearing the MRN to ensure that the foreign currency provided had been utilised for the purpose stated and that the goods have been imported into South Africa. The Authorised Dealer must also have procedures in place to follow up and report non-compliance to the Financial Surveillance Department and must inform importers of their obligations in terms of Regulation 12. If the goods for which payment has been made have not been consigned to South Africa within four months of the date of payment, the importer must advise the Authorised Dealer in writing. [B.1(D)(i)(a), B.1(D)(i)(b), B.1(D)(i)(c), B.1(D)(i)(d), B.1(F)(iv)]\n"
     ]
    },
    {
     "name": "stdout",
     "output_type": "stream",
     "text": [
      "For advance payments for imports, the required documentation includes an invoice for the cost of permissible imports. If the payment exceeds R50 000, the Authorised Dealer must subsequently view a copy of the prescribed SARS Customs Declaration bearing the MRN to ensure that the foreign currency provided had been utilised for the purpose stated and that the goods have been imported into South Africa. The Authorised Dealer must also have procedures in place to follow up and report non-compliance to the Financial Surveillance Department and must inform importers of their obligations in terms of Regulation 12. If the goods for which payment has been made have not been consigned to South Africa within four months of the date of payment, the importer must advise the Authorised Dealer in writing. [B.1(D)(i)(a), B.1(D)(i)(b), B.1(D)(i)(c), B.1(D)(i)(d), B.1(F)(iv)]\n"
     ]
    }
   ],
   "source": [
    "#user_context = \"A non-resident wants to buy residential property in South Africa. What are the restrictions around doing this?\"\n",
    "#user_context = \"A South African citizen is emigrating. What is the process they need to follow to take all their cash offshore?\"\n",
    "#user_context = \"What is the Foreign investment limits for South African institutional investors?\"\n",
    "#user_context = \"Can a individual transfer his shares in a dual listed company to his offshore portfolio?\"\n",
    "#user_context = \"Can cash balances for individuals who are no longer tax resident be transferred offshore?\"\n",
    "#user_context = \"How do I need to report outbound cross-boarder payments?\"\n",
    "#user_context = \"Are there different categories for ALDAs?\"\n",
    "#user_context = \"Who can trade gold?\"\n",
    "\n",
    "#user_context = \"What documentary evidence is required?\"\n",
    "#user_context = \"What does cemad say about travel services?\"\n",
    "#user_context = \"Can I import gold?\"\n",
    "#user_context = \"how much money can an individual take offshore?\"\n",
    "#user_context = \"How much can an individual take offshore in a year?\"\n",
    "#user_context = \"what is the limit for commodities\"\n",
    "#user_context = \"what does the regulation state about travel?\"\n",
    "#user_context = \"How much can adult residents use for travel?\"\n",
    "\n",
    "#user_context = \"If I want to offer cross-border payments, what license do I need?\"\n",
    "\n",
    "#user_context = \"What documentation is required for an advance payments?\"\n",
    "user_context = \"What documentation is required for an advance payments for imports?\"\n",
    "\n",
    "excon.reset_conversation_history()\n",
    "excon.user_provides_input(user_context, threshold=0.15, model_to_use=model_to_use, temperature=0, max_tokens=300)\n",
    "print(excon.messages[-1][\"content\"])\n"
   ]
  },
  {
   "cell_type": "code",
   "execution_count": 7,
   "metadata": {},
   "outputs": [
    {
     "data": {
      "text/plain": [
       "[{'role': 'user',\n",
       "  'content': \"Question: what does the regulation state about travel?\\n\\nSections from the Manual\\nB.4 Single discretionary allowance and other miscellaneous payments for private individuals\\n    (B) Travel allowances\\n        (i) General\\n            (a) There is no limit on the amount of Rand that may be spent on travelling within the CMA.\\n            (b) Residents (natural persons) who are under the age of 18 years may not be accorded single discretionary allowance as outlined in subsection (A)(i) above, but may be accorded a travel allowance not exceeding an amount of R200 000 per calendar year.\\n            (c) In addition, up to R25 000 in cash, per person, may be taken when proceeding on visits outside the CMA, to meet travellers' immediate needs on return to South Africa.\\n            (d) When according travel allowances to persons who do not conduct accounts in their books, Authorised Dealers must record such persons' names, nationalities, residential addresses and telephone numbers to facilitate communication if needed.\\n            (e) Visiting artistes, entertainers, sportspersons and other similar professionals may not be accorded the facilities outlined in this section of the Authorised Dealer Manual.\\nB.4 Single discretionary allowance and other miscellaneous payments for private individuals\\n    (B) Travel allowances\\n        (ii) Travel allowance limits\\n            (a) Foreign currency may be made available within the single discretionary allowance limit of R1 million per calendar year, to the eligible parties mentioned in (iv) below, provided that the requirements of (ix) below are complied with.\\n            (b) Residents (natural persons) who are under the age of 18 years may be accorded a travel allowance not exceeding an amount of R200 000 per calendar year.\\n\"},\n",
       " {'role': 'assistant',\n",
       "  'content': 'The regulation states that there is no limit on the amount of Rand that may be spent on traveling within the Common Monetary Area (CMA). Residents who are under the age of 18 years may be accorded a travel allowance not exceeding an amount of R200 000 per calendar year. Additionally, up to R25 000 in cash per person may be taken when proceeding on visits outside the CMA to meet immediate needs on return to South Africa. Visiting artistes, entertainers, sportspersons, and other similar professionals may not be accorded the facilities outlined in this section of the Authorised Dealer Manual. Foreign currency may be made available within the single discretionary allowance limit of R1 million per calendar year to eligible parties, subject to compliance with certain requirements. (B.4(B)(i)(a), (b), (c), (e), (ii)(a), (b))'}]"
      ]
     },
     "execution_count": 7,
     "metadata": {},
     "output_type": "execute_result"
    }
   ],
   "source": [
    "excon.messages"
   ]
  },
  {
   "cell_type": "code",
   "execution_count": 60,
   "metadata": {},
   "outputs": [
    {
     "name": "stderr",
     "output_type": "stream",
     "text": [
      "INFO:src.chat_bot:User Question:\n",
      "hi\n",
      "DEV:src.chat_bot:#################   Similarity Search       #################\n",
      "DEV:src.chat_bot:--   No relevant definitions found\n",
      "DEV:src.chat_bot:--   No relevant sections found\n",
      "DEV:src.chat_bot:#################   RAG Prompts   #################\n",
      "INFO:src.chat_bot:System Prompt:\n",
      "You are answering questions for an Authorised Dealer with Limited Authority (ADLA) based only on the relevant sections from the 'Currency and Exchange Manual for Authorised Dealers in foreign exchange with limited authority' (Manual or CEMADLA) that are provided. You have three options:\n",
      "1) Answer the question. Preface an answer with the tag 'ANSWER:'. If possible, end the answer with the reference to the section or sections you used to answer the question.\n",
      "2) Request additional documentation. If, in the body of the sections provided, there is a reference to another section of the Manual that is directly relevant and not already provided, respond with the word 'SECTION:' followed by the section reference.\n",
      "3) State 'NONE:' and nothing else in all other cases\n",
      "\n",
      "Note: In the manual sections are numbered like A.1(A) or C.(C)(iii)(c)(cc)(3). The first index uses the regex pattern r'[A-Z]\\.\\d(0, 2)'. Thereafter, each sub-index is surrounded by round brackets\n",
      "INFO:src.chat_bot:User Prompt with RAG:\n",
      "Question: hi\n",
      "\n",
      "\n",
      "WARNING:src.chat_bot:Initial chat API response did not result in a response with the correct format. Retrying\n",
      "WARNING:src.chat_bot:The response was:\n",
      "Hello! How can I assist you today?\n",
      "INFO:src.chat_bot:assistant:\n",
      " To offer cross-border payments, you would need to be a Category Two ADLA. (CEMADLA B.1(B)(iii)(a))\n"
     ]
    },
    {
     "name": "stdout",
     "output_type": "stream",
     "text": [
      "To offer cross-border payments, you would need to be a Category Two ADLA. (CEMADLA B.1(B)(iii)(a))\n"
     ]
    }
   ],
   "source": [
    "user_context = \"hi\"\n",
    "#user_context = \"but what category do I need to be?\"\n",
    "excon.user_provides_input(user_context, threshold=0.15, model_to_use=model_to_use, temperature=0, max_tokens=300)\n",
    "print(excon.messages[-1][\"content\"])"
   ]
  },
  {
   "cell_type": "code",
   "execution_count": 8,
   "metadata": {},
   "outputs": [],
   "source": [
    "import importlib\n",
    "import src.valid_index\n",
    "importlib.reload(src.valid_index)\n",
    "from src.valid_index import get_excon_manual_index\n",
    "import re\n",
    "\n",
    "index = get_excon_manual_index()\n"
   ]
  },
  {
   "cell_type": "code",
   "execution_count": 5,
   "metadata": {},
   "outputs": [
    {
     "name": "stdout",
     "output_type": "stream",
     "text": [
      "None\n"
     ]
    }
   ],
   "source": [
    "s = \" B.4(B)(ii)(a) of the Manual states that foreign currency may be made available within the single discretionary allowance limit of R1 million per calendar year to eligible parties. However, the specific limits for adults are not mentioned in the provided sections. Please refer to the relevant section(s) for more information on the limits for travel allowances for adults.\"\n",
    "#s = \"B.4(B)(ii)(a)\"\n",
    "\n",
    "print(index.extract_valid_reference(s))\n"
   ]
  },
  {
   "cell_type": "code",
   "execution_count": 22,
   "metadata": {},
   "outputs": [
    {
     "data": {
      "text/plain": [
       "[['B.4'], ['(B)'], ['ii'], ['(a)', '(s)'], ['(ii)'], []]"
      ]
     },
     "execution_count": 22,
     "metadata": {},
     "output_type": "execute_result"
    }
   ],
   "source": [
    "patterns = [\n",
    "        r'[A-Z]\\.\\d{0,2}',\n",
    "        r'\\([A-Z]\\)',\n",
    "        r'\\(\\b(i|ii|iii|iv|v|vi|vii|viii|ix|x|xi|xii|xiii|xiv|xv|xvi|xvii|xviii|xix|xx|xxi|xxii|xxiii|xxiv|xxv|xxvi|xxvii)\\b\\)',\n",
    "        r'\\([a-z]\\)',\n",
    "        r'\\([a-z]{2}\\)',\n",
    "        r'\\((?:[1-9]|[1-9][0-9])\\)'\n",
    "    ]\n",
    "matches = [re.findall(pattern, s) for pattern in patterns]\n",
    "matches"
   ]
  },
  {
   "cell_type": "code",
   "execution_count": 26,
   "metadata": {},
   "outputs": [
    {
     "data": {
      "text/plain": [
       "<re.Match object; span=(11, 14), match='(a)'>"
      ]
     },
     "execution_count": 26,
     "metadata": {},
     "output_type": "execute_result"
    }
   ],
   "source": [
    "match = re.search(r'\\([a-z]\\)', s)\n",
    "match"
   ]
  },
  {
   "cell_type": "code",
   "execution_count": 30,
   "metadata": {},
   "outputs": [
    {
     "data": {
      "text/plain": [
       "' '"
      ]
     },
     "execution_count": 30,
     "metadata": {},
     "output_type": "execute_result"
    }
   ],
   "source": [
    "s[match.end()]"
   ]
  },
  {
   "cell_type": "code",
   "execution_count": 87,
   "metadata": {},
   "outputs": [
    {
     "data": {
      "text/plain": [
       "'B.5 Personal transfers by foreign nationals and immigrants\\n    (B) Immigrants\\n        (iii) Payments by immigrants\\n            (a) Applications by immigrants may be approved by Authorised Dealers for the provision of foreign currency to cover current and arrear premiums due on foreign currency life insurance policies or contributions to pension and medical aid funds, provided that:\\n                (aa) the necessary declaration and undertaking were completed; and\\n                (bb) documentary evidence is presented, verifying the amounts due and that the commitment was entered into before the applicants took up residence in South Africa.\\n            (b) Immigrants may against the presentation to an Authorised Dealer of documentary evidence confirming the amount involved repay loans received in their previous country of domicile.\\n            (c) Immigrants may settle foreign tax commitments from South Africa against the production of documentary evidence confirming the amount involved.'"
      ]
     },
     "execution_count": 87,
     "metadata": {},
     "output_type": "execute_result"
    }
   ],
   "source": [
    "excon.get_regulation_detail(\"B.5(B)(iii)\")"
   ]
  },
  {
   "cell_type": "code",
   "execution_count": 11,
   "metadata": {},
   "outputs": [
    {
     "name": "stdout",
     "output_type": "stream",
     "text": [
      "You are answering questions for an Authorised Dealer (AD) based only on the relevant sections from the 'Currency and Exchange Manual for Authorised Dealers' (Manual or CEMAD) that are provided. You have three options:\n",
      "1) Answer the question. Preface an answer with the tag 'ANSWER:'. If possible, end the answer with the reference to the section or sections you used to answer the question.\n",
      "2) Request additional documentation. If, in the body of the sections provided, there is a reference to another section of the Manual that is directly relevant and not already provided, respond with the word 'SECTION:' followed by the section reference.\n",
      "3) State 'NONE:' and nothing else in all other cases\n",
      "\n",
      "Note: In the manual sections are numbered like A.1(A) or C.(C)(iii)(c)(cc)(3). The first index uses the regex pattern r'[A-Z]\\.\\d(0, 2)'. Thereafter, each sub-index is surrounded by round brackets\n"
     ]
    }
   ],
   "source": [
    "print(excon._create_system_message())"
   ]
  },
  {
   "cell_type": "code",
   "execution_count": 23,
   "metadata": {},
   "outputs": [
    {
     "data": {
      "text/html": [
       "<div>\n",
       "<style scoped>\n",
       "    .dataframe tbody tr th:only-of-type {\n",
       "        vertical-align: middle;\n",
       "    }\n",
       "\n",
       "    .dataframe tbody tr th {\n",
       "        vertical-align: top;\n",
       "    }\n",
       "\n",
       "    .dataframe thead th {\n",
       "        text-align: right;\n",
       "    }\n",
       "</style>\n",
       "<table border=\"1\" class=\"dataframe\">\n",
       "  <thead>\n",
       "    <tr style=\"text-align: right;\">\n",
       "      <th></th>\n",
       "      <th>section</th>\n",
       "      <th>text</th>\n",
       "      <th>Embedding</th>\n",
       "      <th>source</th>\n",
       "    </tr>\n",
       "  </thead>\n",
       "  <tbody>\n",
       "    <tr>\n",
       "      <th>0</th>\n",
       "      <td>Legal context</td>\n",
       "      <td>Legal context</td>\n",
       "      <td>[0.008710513822734356, -0.01103331707417965, 0...</td>\n",
       "      <td>heading</td>\n",
       "    </tr>\n",
       "    <tr>\n",
       "      <th>1</th>\n",
       "      <td>A.2(A)</td>\n",
       "      <td>Authorised entities. Authorised Dealers</td>\n",
       "      <td>[-0.009998462162911892, -0.009398686699569225,...</td>\n",
       "      <td>heading</td>\n",
       "    </tr>\n",
       "    <tr>\n",
       "      <th>2</th>\n",
       "      <td>A.2(B)</td>\n",
       "      <td>Authorised entities. Authorised Dealers in for...</td>\n",
       "      <td>[-0.009065092541277409, -0.012516901828348637,...</td>\n",
       "      <td>heading</td>\n",
       "    </tr>\n",
       "    <tr>\n",
       "      <th>3</th>\n",
       "      <td>A.3(A)</td>\n",
       "      <td>Duties and responsibilities of Authorised Deal...</td>\n",
       "      <td>[0.009497863240540028, -0.01100919209420681, -...</td>\n",
       "      <td>heading</td>\n",
       "    </tr>\n",
       "    <tr>\n",
       "      <th>4</th>\n",
       "      <td>A.3(B)</td>\n",
       "      <td>Duties and responsibilities of Authorised Deal...</td>\n",
       "      <td>[-0.010621572844684124, -0.014073583297431469,...</td>\n",
       "      <td>heading</td>\n",
       "    </tr>\n",
       "    <tr>\n",
       "      <th>...</th>\n",
       "      <td>...</td>\n",
       "      <td>...</td>\n",
       "      <td>...</td>\n",
       "      <td>...</td>\n",
       "    </tr>\n",
       "    <tr>\n",
       "      <th>1493</th>\n",
       "      <td>J.(G)</td>\n",
       "      <td>What is the procedure for reporting outward pa...</td>\n",
       "      <td>[-0.0016078203916549683, -0.000447303900728002...</td>\n",
       "      <td>question</td>\n",
       "    </tr>\n",
       "    <tr>\n",
       "      <th>1494</th>\n",
       "      <td>J.(G)</td>\n",
       "      <td>Rules for reporting outward payments using the...</td>\n",
       "      <td>[0.005922725424170494, -0.004037913400679827, ...</td>\n",
       "      <td>summary</td>\n",
       "    </tr>\n",
       "    <tr>\n",
       "      <th>1495</th>\n",
       "      <td>B.4(G)(i)</td>\n",
       "      <td>How much money can an individual take offshore?</td>\n",
       "      <td>[0.01233571209013462, -0.03362925723195076, 0....</td>\n",
       "      <td>manual</td>\n",
       "    </tr>\n",
       "    <tr>\n",
       "      <th>1496</th>\n",
       "      <td>B.4(B)(i)</td>\n",
       "      <td>Is there any general guidance on travel?</td>\n",
       "      <td>[0.0002241560723632574, 0.000385825231205672, ...</td>\n",
       "      <td>manual</td>\n",
       "    </tr>\n",
       "    <tr>\n",
       "      <th>1497</th>\n",
       "      <td>B.4(B)(ii)</td>\n",
       "      <td>What are the travel allowance limits?</td>\n",
       "      <td>[0.01554630883038044, -0.011501027271151543, 0...</td>\n",
       "      <td>manual</td>\n",
       "    </tr>\n",
       "  </tbody>\n",
       "</table>\n",
       "<p>1498 rows × 4 columns</p>\n",
       "</div>"
      ],
      "text/plain": [
       "            section                                               text  \\\n",
       "0     Legal context                                      Legal context   \n",
       "1            A.2(A)            Authorised entities. Authorised Dealers   \n",
       "2            A.2(B)  Authorised entities. Authorised Dealers in for...   \n",
       "3            A.3(A)  Duties and responsibilities of Authorised Deal...   \n",
       "4            A.3(B)  Duties and responsibilities of Authorised Deal...   \n",
       "...             ...                                                ...   \n",
       "1493          J.(G)  What is the procedure for reporting outward pa...   \n",
       "1494          J.(G)  Rules for reporting outward payments using the...   \n",
       "1495      B.4(G)(i)    How much money can an individual take offshore?   \n",
       "1496      B.4(B)(i)           Is there any general guidance on travel?   \n",
       "1497     B.4(B)(ii)              What are the travel allowance limits?   \n",
       "\n",
       "                                              Embedding    source  \n",
       "0     [0.008710513822734356, -0.01103331707417965, 0...   heading  \n",
       "1     [-0.009998462162911892, -0.009398686699569225,...   heading  \n",
       "2     [-0.009065092541277409, -0.012516901828348637,...   heading  \n",
       "3     [0.009497863240540028, -0.01100919209420681, -...   heading  \n",
       "4     [-0.010621572844684124, -0.014073583297431469,...   heading  \n",
       "...                                                 ...       ...  \n",
       "1493  [-0.0016078203916549683, -0.000447303900728002...  question  \n",
       "1494  [0.005922725424170494, -0.004037913400679827, ...   summary  \n",
       "1495  [0.01233571209013462, -0.03362925723195076, 0....    manual  \n",
       "1496  [0.0002241560723632574, 0.000385825231205672, ...    manual  \n",
       "1497  [0.01554630883038044, -0.011501027271151543, 0...    manual  \n",
       "\n",
       "[1498 rows x 4 columns]"
      ]
     },
     "execution_count": 23,
     "metadata": {},
     "output_type": "execute_result"
    }
   ],
   "source": [
    "import pandas as pd\n",
    "df_text_all = pd.read_parquet(path_to_index_as_parquet_file, engine='pyarrow')\n",
    "df_text_all"
   ]
  },
  {
   "cell_type": "code",
   "execution_count": null,
   "metadata": {},
   "outputs": [
    {
     "data": {
      "text/plain": [
       "'No section could be found with the reference I.(E)(ii)'"
      ]
     },
     "execution_count": 9,
     "metadata": {},
     "output_type": "execute_result"
    }
   ],
   "source": [
    "excon.get_regulation_detail('I.(1)(E)(ii)')"
   ]
  },
  {
   "cell_type": "code",
   "execution_count": null,
   "metadata": {},
   "outputs": [],
   "source": [
    "#user_context = \"What is a CFC Account?\"\n",
    "#user_context = \"I am submitting documentation to the financial surveillance department. What information do I need to include in my submission?\" # (A.3 (B))\n",
    "#user_context = \"Can a bank provide foreign currency denominated facilities to a South African Corporate?\" #  (A.3 (B))\n",
    "#user_context = \"For how long does the approval for a facility remain valid?\" #  (A.3 (B))\n",
    "#user_context = \"Other than authorised transaction requests, are there requirements for authorised dealers to submit information to the financial surveillance department?\" #  (A.3 (B))\n",
    "#user_context = \"I have been asked to act on an approval issued to another bank. Can I do that?\" #  (A.3 (B))\n",
    "#####user_context = \"--- Same as above but use \"Authorised Dealer\" instead of \"Bank\"\n",
    "#user_context = \"If I am concerned that as client may in breach of regulations, what should I do?\" #  (A.3 (B))\n",
    "#user_context = \"What constitutes 'documentary evidence' for a foreign currency transaction?\" #  (A.3 (C))\n",
    "#user_context = \"Is Swaziland part of the CMA?\" #  (A.3 (E))\n",
    "#user_context = \"A client wants to buy Namibian Dollars. What approvals do they need before they can do this?\" #  (A.3 (E))\n",
    "#user_context = \"A person from Lesotho wants to buy dollars from me. Can I sell them the dollars?\" #  (A.3 (E))\n",
    "#user_context = \"A person from Namibia wants to buy rand from me. Can I sell them the rand?\" #  (A.3 (E))\n",
    "#user_context = \"A treasury management company wants to trade dollars with me. What do I need to check before I can do this?\" #  (A.4 (B))\n",
    "#user_context = \"A client wants to import goods and pay in foreign currency. What documentation do I need before I can assist with the transaction\" #  (B.1 (B))\n",
    "#user_context = \"Over and above the price of the goods, what additional costs can be covered in foreign currency?\" #  (B.1 (C))\n",
    "#user_context = \"Can advance payment be made in a foreign currency to cover imported goods?\" #  (B.1 (D)(i))\n",
    "\n",
    "#user_context = \"Can advance payment be made in a foreign currency to cover imported capital goods?\" #  (B.1 (D)(ii))\n",
    "#user_context = \"When paying for imports in cash, what documentation is required before providing the foreign currency?\" #  (B.1 (D)(iii))\n",
    "\n",
    "#user_context = \"Can imported goods be financed over more than 12 months?\" #  (B.1 (D)(iv))\n",
    "#user_context = \"How much money can an individual invest internationally?\" #  ?\n",
    "#user_context = \"How much money can an individual take offshore?\" #  ?\n",
    "\n",
    "#user_context = \"A media company want to list offshore. Are there specific conditions for this?\"\n",
    "# user_context = \"How many rands can a resident take offshore in cash?\"\n",
    "#user_context = \"Can I grant a foreign company a Rand facility to pay for goods they wish to purchase from a South African exporter?\"\n",
    "#user_context = \"Can I support a non-residential entity with short-term rand trade finance for their exports from South Africa?\"\n",
    "#user_context = \"Hi\"\n",
    "#user_context = \"Who can trade gold?\"\n",
    "#user_context = \"are there specific exchange control rules for religious organizations?\"\n",
    "#user_context = \"How much foreign currency can a charity take offshore each year?\"\n",
    "\n"
   ]
  },
  {
   "cell_type": "code",
   "execution_count": null,
   "metadata": {},
   "outputs": [],
   "source": []
  }
 ],
 "metadata": {
  "kernelspec": {
   "display_name": "Python 3.10.4 ('env': venv)",
   "language": "python",
   "name": "python3"
  },
  "language_info": {
   "codemirror_mode": {
    "name": "ipython",
    "version": 3
   },
   "file_extension": ".py",
   "mimetype": "text/x-python",
   "name": "python",
   "nbconvert_exporter": "python",
   "pygments_lexer": "ipython3",
   "version": "3.10.4"
  },
  "orig_nbformat": 4,
  "vscode": {
   "interpreter": {
    "hash": "007219f1a1c0c3993c3211d5a541b1fa109902aadb48cb5499ee55023bf45452"
   }
  }
 },
 "nbformat": 4,
 "nbformat_minor": 2
}
