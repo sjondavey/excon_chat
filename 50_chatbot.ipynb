{
 "cells": [
  {
   "cell_type": "code",
   "execution_count": 1,
   "metadata": {},
   "outputs": [],
   "source": [
    "import importlib\n",
    "import src.chat_bot\n",
    "importlib.reload(src.chat_bot)\n",
    "from src.chat_bot import ExconManual\n",
    "\n",
    "from openai import OpenAI\n",
    "import os"
   ]
  },
  {
   "cell_type": "code",
   "execution_count": 2,
   "metadata": {},
   "outputs": [
    {
     "name": "stdout",
     "output_type": "stream",
     "text": [
      "Loaded Authorised Dealer Manual\n"
     ]
    }
   ],
   "source": [
    "ad = True\n",
    "#ad = False # = ADLA chat\n",
    "if ad:\n",
    "    print(\"Loaded Authorised Dealer Manual\")\n",
    "else:\n",
    "    print(\"Loaded ADLA manual\")\n",
    "\n",
    "logging_level = 15\n",
    "#logging_level = 20\n",
    "log_file = ''\n",
    "\n",
    "if ad:\n",
    "    path_to_manual_as_csv_file = \"./inputs/ad_manual.csv\"\n",
    "    path_to_definitions_as_parquet_file = \"./inputs/ad_definitions.parquet\"\n",
    "    path_to_index_as_parquet_file = \"./inputs/ad_index.parquet\"\n",
    "    chat_for_ad = True\n",
    "else:\n",
    "    path_to_manual_as_csv_file = \"./inputs/adla_manual.csv\"\n",
    "    path_to_definitions_as_parquet_file = \"./inputs/adla_definitions.parquet\"\n",
    "    path_to_index_as_parquet_file = \"./inputs/adla_index.parquet\"\n",
    "    chat_for_ad = False\n",
    "\n",
    "openai_client = OpenAI(api_key=os.environ.get(\"OPENAI_API_KEY\"),)\n",
    "excon = ExconManual(openai_client, path_to_manual_as_csv_file, path_to_definitions_as_parquet_file, path_to_index_as_parquet_file, chat_for_ad = chat_for_ad, log_file=log_file, logging_level=logging_level)\n"
   ]
  },
  {
   "cell_type": "code",
   "execution_count": 4,
   "metadata": {},
   "outputs": [
    {
     "name": "stdout",
     "output_type": "stream",
     "text": [
      "B.3 Income transfers\n",
      "    (B) Income due to non-residents and private individuals who cease to be residents for tax purposes in South Africa\n",
      "        (ii) Interest\n",
      "            (a) Authorised Dealers may allow the transfer of interest income on local debt securities owned by them, including interest-bearing deposits held by them, with local financial institutions in terms of the Authorised Dealer Manual or in terms of a specific authority granted by the Financial Surveillance Department, provided that documentary evidence of such indebtedness by a resident debtor is produced by the applicant. Rates of interest or discount rates earned must equate to the money and/or capital market rates ruling for such debt securities at the time of purchase or investment or lending or as specifically approved by the Financial Surveillance Department.\n"
     ]
    }
   ],
   "source": [
    "print(excon.get_regulation_detail(\"B.3 (B)(ii)(a)\"))"
   ]
  },
  {
   "cell_type": "code",
   "execution_count": 60,
   "metadata": {},
   "outputs": [],
   "source": [
    "#model_to_use=\"gpt-3.5-turbo\"\n",
    "#model_to_use = \"gpt-4-1106-preview\"\n",
    "model_to_use=\"gpt-4\"\n",
    "#model_to_use=\"gpt-3.5-turbo-16k\""
   ]
  },
  {
   "cell_type": "code",
   "execution_count": 86,
   "metadata": {},
   "outputs": [
    {
     "name": "stderr",
     "output_type": "stream",
     "text": [
      "INFO:src.chat_bot:User Question:\n",
      "What documentation is required for an advance payments for imports?\n",
      "DEV:src.chat_bot:#################   Similarity Search       #################\n",
      "DEV:src.chat_bot:--   No relevant definitions found\n",
      "DEV:src.chat_bot:Found more than 15 references that are closer than the input threshold of 0.15. Capping them so there are only 15\n",
      "DEV:src.chat_bot:--   Relevant Sections\n",
      "DEV:src.chat_bot:0.0765:               B.1(B):        question: What documents are required to make foreign currency payments for imports?\n",
      "DEV:src.chat_bot:0.0822:               B.1(B):         heading: Payment for imports. Requisite documentation\n",
      "DEV:src.chat_bot:0.0835:            B.1(D)(i):        question: What are the guidelines for making advance payments for imports in foreign currency?\n",
      "DEV:src.chat_bot:0.0978:           B.1(D)(iv):        question: What are the requirements for extending credit terms for imports?\n",
      "DEV:src.chat_bot:0.1012:         D.1(C)(i)(d):        question: What documentation is required for import-related transactions for periods longer than 12 months?\n",
      "DEV:src.chat_bot:0.1014:               B.1(F):        question: What documentation is required to verify that goods have been cleared by Customs?\n",
      "DEV:src.chat_bot:0.1039:               B.1(F):        question: What is the time frame for presenting the required Customs Declaration for advanced payments?\n",
      "DEV:src.chat_bot:0.1090:            B.1(D)(i):         heading: Payment for imports. Terms of payment for imports. Advance payments\n",
      "DEV:src.chat_bot:0.1096:           B.1(D)(ii):        question: Can I make advance payments for imported capital goods?\n",
      "DEV:src.chat_bot:0.1177:            B.1(D)(v):        question: Can payments for imports still be made if the required documents are older than a year?\n",
      "DEV:src.chat_bot:0.1191:               B.1(F):         heading: Payment for imports. Evidence of importation\n",
      "DEV:src.chat_bot:0.1192:           B.1(D)(vi):         summary: Payments for imports against an invoice only or against both an invoice and transport documents should be reported under the advance payment category 101-01 to 101-11. Advance payments for clients availing of the imports undertaking dispensation are to be reported under category 102-01 to 102-11. However, for payments related to imports where the goods have already been released by Customs and the prescribed SARS Customs Declaration with the MRN is issued, the appropriate import category excluding 101-01 to 101-11 should be used.\n",
      "DEV:src.chat_bot:0.1194:            B.1(D)(v):        question: Is it possible to process import payments with outdated documentation?\n",
      "DEV:src.chat_bot:0.1207:              B.19(F):        question: What documentation is required to export defective goods?\n",
      "DEV:src.chat_bot:0.1214:               B.8(C):        question: What documentation is required for making subsequent payments for a tour?\n",
      "DEV:src.chat_bot:Top result: B.1(B) with a cosine distance of 0.0765\n",
      "DEV:src.chat_bot:Most common section: B.1(F) with a minimum cosine distance of 0.10141415932451414\n",
      "DEV:src.chat_bot:References found that occur multiple times\n",
      "DEV:src.chat_bot:Reference: B.1(D)(i), Count: 2, Min Cosine-Distance: 0.08349325750056857\n",
      "DEV:src.chat_bot:Reference: B.1(D)(v), Count: 2, Min Cosine-Distance: 0.11773555294325222\n",
      "DEV:src.chat_bot:--   Filtered Sections\n",
      "DEV:src.chat_bot:0.0765 (*min dist):               B.1(B):  2\n",
      "DEV:src.chat_bot:0.1014 (*min dist):               B.1(F):  3\n",
      "DEV:src.chat_bot:0.0835 (*min dist):            B.1(D)(i):  2\n",
      "DEV:src.chat_bot:0.1177 (*min dist):            B.1(D)(v):  2\n",
      "DEV:src.chat_bot:#################   RAG Prompts   #################\n",
      "INFO:src.chat_bot:System Prompt:\n",
      "You are answering questions for an Authorised Dealer (AD) based only on the relevant sections from the 'Currency and Exchange Manual for Authorised Dealers' (Manual or CEMAD) that are provided. You have three options:\n",
      "1) Answer the question. Preface an answer with the tag 'ANSWER:'. If possible, end the answer with the reference to the section or sections you used to answer the question.\n",
      "2) Request additional documentation. If, in the body of the sections provided, there is a reference to another section of the Manual that is directly relevant and not already provided, respond with the word 'SECTION:' followed by the full section reference.\n",
      "3) State 'NONE:' and nothing else in all other cases\n",
      "\n",
      "Note: In the manual sections are numbered like A.1(A) or C.(C)(iii)(c)(cc)(3). The first index uses the regex pattern r'[A-Z]\\.\\d(0, 2)'. Thereafter, each sub-index is surrounded by round brackets\n",
      "INFO:src.chat_bot:User Prompt with RAG:\n",
      "Question: What documentation is required for an advance payments for imports?\n",
      "\n",
      "Sections from the Manual\n",
      "B.1 Payment for imports\n",
      "    (B) Requisite documentation\n",
      "        (i) Authorised Dealers may only effect foreign currency payments for imports against the following documentation:\n",
      "            (a) commercial invoices issued by the supplier;\n",
      "            (b) any one of the transport documents as prescribed by the International Chamber of Commerce Uniform Customs and Practice for Documentary Credits (UCP 600) and its supplement for electronic presentation, the eUCP, evidencing transport of the relative goods to South Africa; or\n",
      "            (c) Freight Forwarders Certificate of Receipt or Freight Forwarders Certificate of Transport; and\n",
      "            (d) consignee's copy of the prescribed SARS Customs Declaration.\n",
      "        (ii) In lieu of the documents referred to in (i)(b) and (c) above, arrival notifications issued by shipping companies may be tendered.\n",
      "        (iii) Imports from Botswana may, however, be paid for against a commercial invoice issued by the supplier and the consignee's copy of the prescribed SARS Customs Declaration.\n",
      "B.1 Payment for imports\n",
      "    (D) Terms of payment for imports\n",
      "        (i) Advance payments\n",
      "            (a) Authorised Dealers may provide foreign currency in respect of advance payments to cover the cost of permissible imports, other than capital goods, against the presentation of an invoice.\n",
      "            (b) Authorised Dealers must, in respect of payments in excess of R50 000, subsequently view a copy of the prescribed SARS Customs Declaration bearing the MRN, to ensure that the foreign currency provided had been utilised for the purpose stated and that the goods have been imported into South Africa.\n",
      "            (c) All foreign exchange transactions involving advance payments for imports are subject to the condition that the Authorised Dealer making the advance payment has procedures in place to follow up and report non-compliance to the Financial Surveillance Department.\n",
      "            (d) Authorised Dealers must also inform importers of their obligations in terms of Regulation 12.\n",
      "B.1 Payment for imports\n",
      "    (F) Evidence of importation\n",
      "        (i) Authorised Dealers must insist upon the presentation to them of the prescribed SARS Customs Declaration bearing the MRN as evidence that goods in respect of which transfers have been effected in terms of subsection (C) above have been cleared by Customs. These documents must be presented at the time foreign currency payments for imports are made where the goods have already been cleared by Customs, or in the case of advance payments in excess of R50 000 within four months of the date of payment. The detailed information shown on these documents must be checked against the information obtained at the time payment for the relative import was made in order to verify that the payment made relates to the goods that have been cleared.\n",
      "        (ii) Where the prescribed SARS Customs Declaration reflects the Customs Requested Procedure Code indicating that the goods are held in bonded warehouse, Authorised Dealers must diarise to view subsequent documentation from Customs, confirming the removal of the goods in bonded warehouse.\n",
      "        (iii) Authorised Dealers must be alert to the presentation of documentation that would indicate that the goods have been exported from South Africa. Such transactions are regarded as merchanting transactions and are subject to the provisions outlined in section B.12(A) of the Authorised Dealer Manual.\n",
      "        (iv) Where goods for which payment has been made from South Africa have not been or will not be consigned to South Africa within four months of the date of payment, the importer must within 14 days of the expiry of such period advise the Authorised Dealer concerned in writing, who should report the matter to the Financial Surveillance Department.\n",
      "        (v) Authorised Dealers should on a monthly basis diarise to pursue all outstanding import verifications with the importers concerned in writing (via registered mail or email) during the above-mentioned four month period. Should no response or an unsatisfactory response be received, the matter should at any time after the four month period has lapsed but not later than ten months from the original payment date, be reported to the Financial Surveillance Department. In this regard, a fully motivated application must be submitted providing details of the transaction(s) including the customer name, value date, transaction reference number, Rand amount, and the Customs client number (CCN) reported on the FinSurv Reporting System. The outstanding advance payment transaction may be discharged from the Import Verification System only after confirmation has been received from the Financial Surveillance Department.\n",
      "        (vi) Where the relative consignment has been lost or resold in the country of supply, Authorised Dealers are responsible for ensuring that the foreign currency proceeds of any insurance claim or of the sale of the goods are properly accounted for in terms of the provisions of Regulation 6. The Import Verification System must be updated accordingly.\n",
      "        (vii) Authorised Dealers should note that non-compliance with the above directives will be viewed in a serious light.\n",
      "        (viii) Digital copies of the documents must be retained for a period of five years by Authorised Dealers for inspection purposes. Authorised Dealers should also point out to their clients that original documents must be retained for a period of five years for inspection purposes.\n",
      "B.1 Payment for imports\n",
      "    (D) Terms of payment for imports\n",
      "        (v) Payments older than 12 months\n",
      "            (a) Payments in respect of imports where the required import documents are older than 12 months may be effected, provided that no interest has been charged by the foreign supplier.\n",
      "\n",
      "INFO:src.chat_bot:assistant:\n",
      " For advance payments for imports, the required documentation includes an invoice for the cost of permissible imports. If the payment exceeds R50 000, the Authorised Dealer must subsequently view a copy of the prescribed SARS Customs Declaration bearing the MRN to ensure that the foreign currency provided had been utilised for the purpose stated and that the goods have been imported into South Africa. The Authorised Dealer must also have procedures in place to follow up and report non-compliance to the Financial Surveillance Department and must inform importers of their obligations in terms of Regulation 12. If the goods for which payment has been made have not been consigned to South Africa within four months of the date of payment, the importer must advise the Authorised Dealer in writing. [B.1(D)(i)(a), B.1(D)(i)(b), B.1(D)(i)(c), B.1(D)(i)(d), B.1(F)(iv)]\n"
     ]
    },
    {
     "name": "stdout",
     "output_type": "stream",
     "text": [
      "For advance payments for imports, the required documentation includes an invoice for the cost of permissible imports. If the payment exceeds R50 000, the Authorised Dealer must subsequently view a copy of the prescribed SARS Customs Declaration bearing the MRN to ensure that the foreign currency provided had been utilised for the purpose stated and that the goods have been imported into South Africa. The Authorised Dealer must also have procedures in place to follow up and report non-compliance to the Financial Surveillance Department and must inform importers of their obligations in terms of Regulation 12. If the goods for which payment has been made have not been consigned to South Africa within four months of the date of payment, the importer must advise the Authorised Dealer in writing. [B.1(D)(i)(a), B.1(D)(i)(b), B.1(D)(i)(c), B.1(D)(i)(d), B.1(F)(iv)]\n"
     ]
    }
   ],
   "source": [
    "#user_context = \"A non-resident wants to buy residential property in South Africa. What are the restrictions around doing this?\"\n",
    "#user_context = \"A South African citizen is emigrating. What is the process they need to follow to take all their cash offshore?\"\n",
    "#user_context = \"What is the Foreign investment limits for South African institutional investors?\"\n",
    "#user_context = \"Can a individual transfer his shares in a dual listed company to his offshore portfolio?\"\n",
    "#user_context = \"Can cash balances for individuals who are no longer tax resident be transferred offshore?\"\n",
    "#user_context = \"How do I need to report outbound cross-boarder payments?\"\n",
    "#user_context = \"Are there different categories for ALDAs?\"\n",
    "#user_context = \"Who can trade gold?\"\n",
    "\n",
    "#user_context = \"What documentary evidence is required?\"\n",
    "#user_context = \"What does cemad say about travel services?\"\n",
    "#user_context = \"Can I import gold?\"\n",
    "#user_context = \"how much money can an individual take offshore?\"\n",
    "#user_context = \"How much can an individual take offshore in a year?\"\n",
    "#user_context = \"what is the limit for commodities\"\n",
    "#user_context = \"what does the regulation state about travel?\"\n",
    "#user_context = \"How much can adult residents use for travel?\"\n",
    "\n",
    "#user_context = \"If I want to offer cross-border payments, what license do I need?\"\n",
    "\n",
    "#user_context = \"What documentation is required for an advance payments?\"\n",
    "user_context = \"What documentation is required for an advance payments for imports?\"\n",
    "\n",
    "excon.reset_conversation_history()\n",
    "excon.user_provides_input(user_context, threshold=0.15, model_to_use=model_to_use, temperature=0, max_tokens=300)\n",
    "print(excon.messages[-1][\"content\"])\n"
   ]
  }
 ],
 "metadata": {
  "kernelspec": {
   "display_name": "Python 3.10.4 ('env': venv)",
   "language": "python",
   "name": "python3"
  },
  "language_info": {
   "codemirror_mode": {
    "name": "ipython",
    "version": 3
   },
   "file_extension": ".py",
   "mimetype": "text/x-python",
   "name": "python",
   "nbconvert_exporter": "python",
   "pygments_lexer": "ipython3",
   "version": "3.10.4"
  },
  "orig_nbformat": 4,
  "vscode": {
   "interpreter": {
    "hash": "c548d70a0ee3a43b13cd9e58f531623ad7c83e304ddc5d83c0f1eb37efc9120d"
   }
  }
 },
 "nbformat": 4,
 "nbformat_minor": 2
}
